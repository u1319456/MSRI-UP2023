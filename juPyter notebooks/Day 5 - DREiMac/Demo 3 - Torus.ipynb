{
 "cells": [
  {
   "cell_type": "markdown",
   "id": "43a3d8c6",
   "metadata": {},
   "source": [
    "## Demo 3 - Coordinatizing a noisy torus"
   ]
  },
  {
   "cell_type": "code",
   "execution_count": null,
   "id": "17e592a8",
   "metadata": {},
   "outputs": [],
   "source": [
    "import time\n",
    "import numpy as np\n",
    "\n",
    "#topological data analysis\n",
    "from persim import plot_diagrams\n",
    "from dreimac import CircularCoords \n",
    "from dreimac import CircleMapUtils as CMU\n",
    "\n",
    "#plotting and visualization\n",
    "import plotly.graph_objects as go\n",
    "from plotly.subplots import make_subplots\n",
    "\n",
    "import matplotlib.pyplot as plt\n",
    "%matplotlib inline"
   ]
  },
  {
   "cell_type": "code",
   "execution_count": null,
   "id": "03088b40",
   "metadata": {},
   "outputs": [],
   "source": [
    "np.random.seed(2)\n",
    "n_data = 25000\n",
    "R = 5\n",
    "r = 2\n",
    "data = np.zeros((n_data, 3))\n",
    "s = np.random.rand(n_data)*2*np.pi\n",
    "t = np.random.rand(n_data)*2*np.pi\n",
    "\n",
    "data[:, 0] = (R + r*np.cos(s))*np.cos(t)\n",
    "data[:, 1] = (R + r*np.cos(s))*np.sin(t)\n",
    "data[:, 2] = r*np.sin(s)\n",
    "data += 0.1*np.random.randn(*data.shape)\n",
    "\n",
    "# Plot the data \n",
    "fig = go.Figure(data=[go.Scatter3d(\n",
    "    x=data[:,0], y=data[:,1], z=data[:,2], \n",
    "    mode ='markers', \n",
    "    marker=dict(size = 1.5 , color = 'grey'))])\n",
    "\n",
    "fig.update_layout( showlegend=False )\n",
    "fig.show()"
   ]
  },
  {
   "cell_type": "code",
   "execution_count": null,
   "id": "d4484463",
   "metadata": {},
   "outputs": [],
   "source": [
    "n_lands = 200\n",
    "\n",
    "cc = CircularCoords(data, n_landmarks=n_lands)\n",
    "\n",
    "plot_diagrams(cc.dgms_)"
   ]
  },
  {
   "cell_type": "code",
   "execution_count": null,
   "id": "e6f18ee0",
   "metadata": {},
   "outputs": [],
   "source": [
    "# Get the circular coordinates at birth, and for the 2 cocycles with highest persistence\n",
    "coho_classes = [0, 1]\n",
    "\n",
    "circular_coords = []\n",
    "\n",
    "for i in coho_classes:\n",
    "    theta = cc.get_coordinates(perc= 0, cocycle_idx=i)\n",
    "    theta = CMU.to_sinebow(np.pi + CMU.center(theta))\n",
    "    circular_coords.append(theta)\n"
   ]
  },
  {
   "cell_type": "code",
   "execution_count": null,
   "id": "63c969d1",
   "metadata": {},
   "outputs": [],
   "source": [
    "# Plot data with 2 circular coordinates\n",
    "\n",
    "fig = make_subplots(rows=1, cols=len(coho_classes), \n",
    "                    subplot_titles = tuple('Circ Coord '+str(i+1) for i in coho_classes),\n",
    "                    specs = [[{'type': 'scatter3d'} for i in coho_classes]])\n",
    "\n",
    "for i, coord in enumerate(circular_coords):\n",
    "    fig.add_trace(\n",
    "        go.Scatter3d(x=data.T[0], y=data.T[1], z=data.T[2],   mode ='markers', \n",
    "        marker=dict(size = 2 , color =  circular_coords[i])),  \n",
    "        row=1, col=i+1)\n",
    "    fig.update_scenes(xaxis=dict( ticks='', showticklabels=False), \n",
    "                      yaxis=dict( ticks='', showticklabels=False), \n",
    "                      zaxis=dict( ticks='', showticklabels=False), \n",
    "                      aspectmode='data', row=1, col=i+1)\n",
    "\n",
    "fig.update_layout( showlegend=False )\n",
    "fig.show()"
   ]
  },
  {
   "cell_type": "code",
   "execution_count": null,
   "id": "71e338c8",
   "metadata": {},
   "outputs": [],
   "source": []
  }
 ],
 "metadata": {
  "kernelspec": {
   "display_name": "Python 3 (ipykernel)",
   "language": "python",
   "name": "python3"
  },
  "language_info": {
   "codemirror_mode": {
    "name": "ipython",
    "version": 3
   },
   "file_extension": ".py",
   "mimetype": "text/x-python",
   "name": "python",
   "nbconvert_exporter": "python",
   "pygments_lexer": "ipython3",
   "version": "3.9.12"
  }
 },
 "nbformat": 4,
 "nbformat_minor": 5
}
