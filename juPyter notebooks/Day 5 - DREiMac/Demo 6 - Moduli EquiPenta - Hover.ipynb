{
 "cells": [
  {
   "cell_type": "markdown",
   "metadata": {},
   "source": [
    "## Demo 6 - Moduli space of unirateral equilateral pentagons \n",
    "\n",
    "### A toy model for energy landscapes and molecular dynamics"
   ]
  },
  {
   "cell_type": "code",
   "execution_count": null,
   "metadata": {},
   "outputs": [],
   "source": [
    "import random\n",
    "import numpy as np\n",
    "\n",
    "#manifold learning and dim red\n",
    "from sklearn.manifold import Isomap\n",
    "from sklearn.decomposition import PCA\n",
    "from sklearn.manifold import LocallyLinearEmbedding as LLE\n",
    "\n",
    "#topological data analysis\n",
    "from ripser import ripser\n",
    "from persim import plot_diagrams\n",
    "from dreimac import CircularCoords, CircleMapUtils\n",
    "\n",
    "#plotting and visualization\n",
    "from jupyter_dash import JupyterDash\n",
    "from dash import Dash, dcc, html, Input, Output, no_update\n",
    "import plotly.graph_objects as go\n",
    "import pandas as pd\n",
    "import base64\n",
    "\n",
    "from matplotlib import cm\n",
    "import matplotlib.pyplot as plt\n",
    "%matplotlib inline"
   ]
  },
  {
   "cell_type": "markdown",
   "metadata": {},
   "source": [
    "# Moduli Space of Equilateral Pentagons\n",
    "\n",
    "The space of planar pentagons of side length 1 is the set\n",
    "\n",
    "\n",
    "$$\\mathbb{M} = \\left\\{ (\\mathbf{p}_1, \\ldots, \\mathbf{p}_5) \\in \\mathbb{C}^5 \\; : \\; |\\mathbf{p}_{i} - \\mathbf{p}_{i+1}| = 1 \\right\\} \\big/ \\sim $$\n",
    "\n",
    "where two pentagons are regarded as equivalent, $\\mathbf{p} \\sim  \\mathbf{p}' $, if and only if $ \\mathbf{p}' = U\\mathbf{p} + \\mathbf{v} $ for   $ U \\in U(1) $ and $ \\mathbf{v} \\in \\mathbb{C} $. "
   ]
  },
  {
   "cell_type": "code",
   "execution_count": null,
   "metadata": {
    "scrolled": false
   },
   "outputs": [],
   "source": [
    "random.seed(1)\n",
    "# Load data\n",
    "data = np.loadtxt('data/pentagonsamplesSmall2.txt', delimiter=',')\n",
    "\n",
    "print(data.shape[0])\n",
    "\n",
    "# Energy computation\n",
    "data_aug = np.zeros((data.shape[0], 10)) # augmented data\n",
    "data_aug[:,2] = 1 \n",
    "data_aug[:,[8,9,4,5,6,7]] = data\n",
    "angle_data = np.zeros((data.shape[0],5)) # internal angles\n",
    "\n",
    "for i in range(5):\n",
    "    ii = (2*i -2)%10\n",
    "    jj = (2*i - 1)%10\n",
    "    u = data_aug[:, [ii, jj]]\n",
    "    \n",
    "    ii = (2*i)%10\n",
    "    jj = (2*i + 1)%10\n",
    "    v = data_aug[:, [ii , jj]]\n",
    "    \n",
    "    ii = (2*i + 2)%10\n",
    "    jj = (2*i + 3)%10\n",
    "    w = data_aug[:, [ii, jj]]\n",
    "    \n",
    "    z = np.sum((u - v)*(w-v), axis = 1)\n",
    "    \n",
    "    angle_data[:,i]  = np.arccos( np.minimum(z,1) )\n",
    "    \n",
    "energy = np.sum((angle_data - (3/5)*np.pi)**2 , axis = 1)\n",
    "\n",
    "# plot sample pentagons\n",
    "plt.figure(figsize=(14,6))\n",
    "for i in range(60):\n",
    "    ind = random.randint(0, data.shape[0])\n",
    "    x = data_aug[ind].reshape(5,2).T\n",
    "    cent = np.mean(x,axis=1)\n",
    "    plt.subplot(6,10,i+1)\n",
    "    plt.plot(x[0,range(-1,5)], x[1,range(-1,5)] , '-o', c= cm.magma(energy[ind]/np.max(energy)))\n",
    "    plt.axis('square')\n",
    "    plt.axis('off')\n",
    "    plt.xlim(cent[0]-1.3,cent[0]+1.3);\n",
    "    plt.ylim(cent[1]-1.3,cent[1]+1.3);"
   ]
  },
  {
   "cell_type": "code",
   "execution_count": null,
   "metadata": {},
   "outputs": [],
   "source": [
    "data_aug[0]"
   ]
  },
  {
   "cell_type": "code",
   "execution_count": null,
   "metadata": {
    "scrolled": false
   },
   "outputs": [],
   "source": [
    "#PCA\n",
    "pca = PCA(n_components=5)\n",
    "data_pca = pca.fit(data).transform(data)\n",
    "\n",
    "print('Explained Variance', pca.explained_variance_ratio_)\n",
    "\n",
    "fig = go.Figure(data=[go.Scatter3d(\n",
    "    x=data_pca[:,0], y=data_pca[:,1], z=data_pca[:,2], \n",
    "    mode ='markers', \n",
    "    marker=dict(size = 3, color =energy, colorscale='plasma' , opacity = 1)\n",
    ")])\n",
    "\n",
    "\n",
    "fig.update_layout(autosize=False, width=700, height=700)  \n",
    "\n",
    "fig.show()"
   ]
  },
  {
   "cell_type": "code",
   "execution_count": null,
   "metadata": {},
   "outputs": [],
   "source": [
    "# ISOMAP\n",
    "# random subsample\n",
    "ind_rand_data = np.random.randint(0, high=data.shape[0], size= 4000)\n",
    "rand_data = data[ind_rand_data , :]\n",
    "\n",
    "iso = Isomap(n_components = 3 , n_neighbors = 7)\n",
    "rand_data_iso = iso.fit_transform(rand_data)\n",
    "\n",
    "fig = go.Figure(data=[go.Scatter3d(\n",
    "    x=rand_data_iso[:,0], y=rand_data_iso[:,1], z=rand_data_iso[:,2], \n",
    "    mode ='markers', \n",
    "    marker=dict(size = 3, color =energy[ind_rand_data], colorscale='plasma')\n",
    ")])\n",
    "\n",
    "fig.update_layout(autosize=False, width=700, height=700)\n",
    "\n",
    "fig.show()"
   ]
  },
  {
   "cell_type": "code",
   "execution_count": null,
   "metadata": {},
   "outputs": [],
   "source": [
    "# LLE\n",
    "# random subsample\n",
    "ind_rand_data = np.random.randint(0, high=data.shape[0], size= 8000)\n",
    "rand_data = data[ind_rand_data , :]\n",
    "\n",
    "rand_data_lle = LLE(n_components = 3 , n_neighbors = 20).fit_transform(rand_data)\n",
    "\n",
    "fig = go.Figure(data=[go.Scatter3d(\n",
    "    x=rand_data_lle[:,0], y=rand_data_lle[:,1], z=rand_data_lle[:,2], \n",
    "    mode ='markers', \n",
    "    marker=dict(size = 3, color =energy[ind_rand_data], colorscale='plasma')\n",
    ")])\n",
    "\n",
    "fig.update_layout(autosize=False, width=700, height=700)\n",
    "\n",
    "fig.show()"
   ]
  },
  {
   "cell_type": "code",
   "execution_count": null,
   "metadata": {},
   "outputs": [],
   "source": [
    "# Persistence Computation\n",
    "n_land = 500\n",
    "res = ripser(data, maxdim=2, n_perm = n_land, coeff =13, thresh = 1.8)\n",
    "dgms = res['dgms']\n",
    "plt.figure(figsize = (4,4)) \n",
    "plot_diagrams(dgms)"
   ]
  },
  {
   "cell_type": "code",
   "execution_count": null,
   "metadata": {},
   "outputs": [],
   "source": [
    "pers1 = dgms[1][:,1] - dgms[1][:,0]\n",
    "pers2 = dgms[2][:,1] - dgms[2][:,0]\n",
    "\n",
    "pers1_sorted = np.sort(pers1)[::-1]\n",
    "pers2_sorted = np.sort(pers2[pers2 < np.Inf])[::-1]\n",
    "\n",
    "print('Persistence of top 10 1-d features:\\n', np.around(pers1_sorted[0:10],decimals=2), '\\n')\n",
    "print('Persistence of top 10 2-d features:\\n', np.around(pers2_sorted[0:10],decimals=2))"
   ]
  },
  {
   "cell_type": "code",
   "execution_count": null,
   "metadata": {},
   "outputs": [],
   "source": [
    "n_lands = 1000\n",
    "\n",
    "cc = CircularCoords(data , n_landmarks= n_lands)"
   ]
  },
  {
   "cell_type": "code",
   "execution_count": null,
   "metadata": {},
   "outputs": [],
   "source": [
    "coho_classes = [0, 1, 3, 4 ]\n",
    "\n",
    "circular_coords = []\n",
    "\n",
    "for i in coho_classes:\n",
    "    circular_coords.append(cc.get_coordinates(perc = 0.6, cocycle_idx=i, standard_range= False))\n"
   ]
  },
  {
   "cell_type": "code",
   "execution_count": null,
   "metadata": {},
   "outputs": [],
   "source": [
    "thetas= CircleMapUtils.linear_combination(circular_coords, [[1,1,0,0], [0,1,0,0],[0,0,1,1]])\n",
    "\n",
    "theta1 = CircleMapUtils.center(thetas[0])\n",
    "theta2 = CircleMapUtils.center(thetas[1])\n",
    "theta3 = CircleMapUtils.center(thetas[2])\n",
    "\n",
    "\n",
    "# Plot the data using the computed circular coordintaes, and colors given by pentagon energy\n",
    "fig = go.Figure(data=[go.Scatter3d(\n",
    "    x=theta1, y=theta2, z=theta3, \n",
    "    mode ='markers', \n",
    "    marker=dict(size = 3, color =energy, colorscale='plasma')\n",
    ")])\n",
    "\n",
    "fig.update_layout(autosize=False, width=700, height=700)\n",
    "\n",
    "fig.show()"
   ]
  },
  {
   "cell_type": "markdown",
   "metadata": {},
   "source": [
    "---\n",
    "\n",
    "<img src=\"https://i.ibb.co/86WnYMT/Eq-Penta-Surf.png\" alt=\"test-1\" border=\"0\" width=700px>"
   ]
  },
  {
   "cell_type": "code",
   "execution_count": null,
   "metadata": {},
   "outputs": [],
   "source": [
    "#plot with hovering affects\n",
    "#test with 64 enconding\n",
    "\n",
    "fig = go.Figure(data=[\n",
    "    go.Scatter3d(x=theta1, y=theta2, z=theta3, \n",
    "        mode='markers', marker=dict(size = 2, color =energy, colorscale='plasma')\n",
    "    )\n",
    "])\n",
    "\n",
    "# turn off native plotly.js hover effects - make sure to use\n",
    "# hoverinfo=\"none\" rather than \"skip\" which also halts events.\n",
    "fig.update_traces(hoverinfo=\"none\", hovertemplate=None)\n",
    "fig.update_layout(\n",
    "    scene = dict(\n",
    "        xaxis = dict(range=[-1,8],),\n",
    "        yaxis = dict(range=[-1,8],),\n",
    "        zaxis = dict(range=[-1,8],),\n",
    "    ), width=700, height=700\n",
    ")\n",
    "\n",
    "app = JupyterDash(__name__)\n",
    "\n",
    "server = app.server\n",
    "\n",
    "app.layout = html.Div([\n",
    "    dcc.Graph(id=\"graph-basic-2\", figure=fig, clear_on_unhover=True),\n",
    "    dcc.Tooltip(id=\"graph-tooltip\"),\n",
    "])\n",
    "\n",
    "\n",
    "@app.callback(\n",
    "    Output(\"graph-tooltip\", \"show\"),\n",
    "    Output(\"graph-tooltip\", \"bbox\"),\n",
    "    Output(\"graph-tooltip\", \"children\"),\n",
    "    Input(\"graph-basic-2\", \"hoverData\"),\n",
    ")\n",
    "\n",
    "def display_hover(hoverData):\n",
    "    if hoverData is None:\n",
    "        return False, no_update, no_update\n",
    "\n",
    "    # demo only shows the first point, but other points may also be available\n",
    "    pt = hoverData[\"points\"][0]\n",
    "    bbox = pt[\"bbox\"]\n",
    "    num = pt[\"pointNumber\"]\n",
    "\n",
    "    img_fname = 'images/'+str(num+1)+'.png'\n",
    "    encoded_img = base64.b64encode(open(img_fname, 'rb').read())\n",
    "\n",
    "    children = [\n",
    "        html.Div([\n",
    "            html.Img(src='data:image/png;base64,{}'.format(encoded_img.decode()), style={'width': '100%'}),\n",
    "        ], style={'width': '80px', 'white-space': 'normal'})\n",
    "    ]\n",
    "\n",
    "    return True, bbox, children\n",
    "\n",
    "app.run_server(mode=\"inline\")\n"
   ]
  },
  {
   "cell_type": "markdown",
   "metadata": {},
   "source": [
    "----"
   ]
  }
 ],
 "metadata": {
  "kernelspec": {
   "display_name": "Python 3 (ipykernel)",
   "language": "python",
   "name": "python3"
  },
  "language_info": {
   "codemirror_mode": {
    "name": "ipython",
    "version": 3
   },
   "file_extension": ".py",
   "mimetype": "text/x-python",
   "name": "python",
   "nbconvert_exporter": "python",
   "pygments_lexer": "ipython3",
   "version": "3.9.12"
  }
 },
 "nbformat": 4,
 "nbformat_minor": 4
}
