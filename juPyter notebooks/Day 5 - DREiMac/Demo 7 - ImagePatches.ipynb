{
 "cells": [
  {
   "cell_type": "markdown",
   "metadata": {},
   "source": [
    "# Real projective coordinates on data set of image patches\n",
    "\n",
    "In this example, we explore the topology of a collection of image patches capturing line segments, which, as we will show using persistent homology and projective coordinates, are parametrized by the projective plane $RP^2$.\n",
    "Each image patch is a square $d \\times d$ region of pixels.\n",
    "Each pixel can be thought of as a dimension, so each patch lives in $\\mathbb{R}^{d \\times d}$, and a collection of patches can be thought of as a Euclidean point cloud in $\\mathbb{R}^{d \\times d}$."
   ]
  },
  {
   "cell_type": "code",
   "execution_count": null,
   "metadata": {},
   "outputs": [],
   "source": [
    "import matplotlib.pyplot as plt\n",
    "\n",
    "from ripser import ripser\n",
    "from persim import plot_diagrams\n",
    "from dreimac import ProjectiveCoords, GeometryUtils, GeometryExamples, PlotUtils, ProjectiveMapUtils"
   ]
  },
  {
   "cell_type": "markdown",
   "metadata": {},
   "source": [
    "We now examine the collection of patches which hold oriented, slightly blurry line segments at varying distances from the center of the patch.\n",
    "We start by considering a small sample of these patches.\n",
    "Below, the \"dim\" variable sets the patch resolution, and the \"sigma\" variable sets the blurriness (a larger sigma means blurrier line segments). "
   ]
  },
  {
   "cell_type": "code",
   "execution_count": null,
   "metadata": {
    "scrolled": false
   },
   "outputs": [],
   "source": [
    "small_sample = GeometryExamples.line_patches(dim=10, n_angles=16, n_offsets=16, sigma=0.25)\n",
    "\n",
    "plt.figure(figsize=(8, 8))\n",
    "PlotUtils.plot_patches(small_sample, zoom=2)\n",
    "plt.gca().set_facecolor((0.7, 0.7, 0.7))"
   ]
  },
  {
   "cell_type": "markdown",
   "metadata": {},
   "source": [
    "Now let's compute persistence diagrams for this collection of patches with both $\\mathbb{Z}/2$ coefficients and $\\mathbb{Z}/3$ coefficients up to $H_2$."
   ]
  },
  {
   "cell_type": "code",
   "execution_count": null,
   "metadata": {},
   "outputs": [],
   "source": [
    "plt.figure(figsize=(8, 4))\n",
    "for i,prime in enumerate([2,3]):\n",
    "    pd = ripser(small_sample, coeff=prime, maxdim=2)['dgms']\n",
    "    plt.subplot(1,2,i+1) ; plot_diagrams(pd) ; _ = plt.title(\"$\\mathbb{Z}/\" + str(prime) + \"$\")"
   ]
  },
  {
   "cell_type": "markdown",
   "metadata": {},
   "source": [
    "There are two high-persistence classes in the persistence diagram with $\\mathbb{Z}/2\\mathbb{Z}$ coefficients that do not show up in the persistence diagram with $\\mathbb{Z} / 3\\mathbb{Z}$ coefficients.\n",
    "This is the signature of the projective plane $RP^2$.\n",
    "To verify this, we will map these patches to $RP^2$ using real projective coordinates."
   ]
  },
  {
   "cell_type": "code",
   "execution_count": null,
   "metadata": {
    "scrolled": false
   },
   "outputs": [],
   "source": [
    "X = GeometryExamples.line_patches(dim=10, n_angles=200, n_offsets=200, sigma=0.25)\n",
    "proj = ProjectiveCoords(X, n_landmarks=200)\n",
    "res = proj.get_coordinates(proj_dim=2, perc=0.9, cocycle_idx=0)\n",
    "proj_coords = res['X']"
   ]
  },
  {
   "cell_type": "code",
   "execution_count": null,
   "metadata": {},
   "outputs": [],
   "source": [
    "subsample = GeometryUtils.get_greedy_perm_pc(proj_coords, 400)['perm']\n",
    "stereo_projection_dim_red_subsample = ProjectiveMapUtils.get_stereo_proj_codim1(proj_coords[subsample, :])\n",
    "\n",
    "plt.figure(figsize=(8, 8))\n",
    "PlotUtils.imscatter(stereo_projection_dim_red_subsample, X[subsample, :], 10)\n",
    "_ = PlotUtils.plot_proj_boundary()"
   ]
  }
 ],
 "metadata": {
  "kernelspec": {
   "display_name": "Python 3 (ipykernel)",
   "language": "python",
   "name": "python3"
  },
  "language_info": {
   "codemirror_mode": {
    "name": "ipython",
    "version": 3
   },
   "file_extension": ".py",
   "mimetype": "text/x-python",
   "name": "python",
   "nbconvert_exporter": "python",
   "pygments_lexer": "ipython3",
   "version": "3.9.16"
  },
  "vscode": {
   "interpreter": {
    "hash": "5319f7d1bb481ce08c8f66b2d322eecc66f5ad1db17e754b4db3cc689c7d8716"
   }
  }
 },
 "nbformat": 4,
 "nbformat_minor": 2
}
