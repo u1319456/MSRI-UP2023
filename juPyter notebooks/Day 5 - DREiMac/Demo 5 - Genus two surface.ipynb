{
 "cells": [
  {
   "cell_type": "markdown",
   "id": "2a9bc73b",
   "metadata": {},
   "source": [
    "## Demo 5 - Independent generators in the genus-2 surface"
   ]
  },
  {
   "cell_type": "code",
   "execution_count": null,
   "id": "da25d08b",
   "metadata": {},
   "outputs": [],
   "source": [
    "from dreimac import GeometryExamples\n",
    "from dreimac import CircleMapUtils as CMU\n",
    "from persim import plot_diagrams\n",
    "\n",
    "import numpy as np\n",
    "\n",
    "import plotly.graph_objects as go\n",
    "from plotly.subplots import make_subplots\n",
    "import matplotlib.pyplot as plt\n",
    "%matplotlib inline"
   ]
  },
  {
   "cell_type": "code",
   "execution_count": null,
   "id": "a45ae766",
   "metadata": {},
   "outputs": [],
   "source": [
    "data = GeometryExamples.genus_two_surface()\n",
    "data += 0.2*np.random.randn(*data.shape)\n",
    "\n",
    "# Plot the data \n",
    "fig = go.Figure(data=[go.Scatter3d(\n",
    "    x=data[:,0], y=data[:,1], z=data[:,2], \n",
    "    mode ='markers', \n",
    "    marker=dict(size = 1.5 , color = 'grey'))])\n",
    "\n",
    "fig.update_layout(scene=dict(aspectmode='data'))\n",
    "fig.update_scenes(xaxis=dict( ticks='', showticklabels=False), \n",
    "                      yaxis=dict( ticks='', showticklabels=False), \n",
    "                      zaxis=dict( ticks='', showticklabels=False))\n",
    "fig.show()\n"
   ]
  },
  {
   "cell_type": "code",
   "execution_count": null,
   "id": "67efffd3",
   "metadata": {},
   "outputs": [],
   "source": [
    "from dreimac import CircularCoords\n",
    "\n",
    "n_lands = 800\n",
    "\n",
    "cc = CircularCoords(data, n_landmarks=n_lands)\n",
    "plot_diagrams(cc.dgms_)"
   ]
  },
  {
   "cell_type": "code",
   "execution_count": null,
   "id": "61a938b9",
   "metadata": {},
   "outputs": [],
   "source": [
    "coho_classes = [0, 1, 2, 3]\n",
    "\n",
    "circular_coords = []\n",
    "\n",
    "for i in coho_classes:\n",
    "    circular_coords.append(cc.get_coordinates(cocycle_idx=i, standard_range = True))"
   ]
  },
  {
   "cell_type": "code",
   "execution_count": null,
   "id": "ebee8b31",
   "metadata": {},
   "outputs": [],
   "source": [
    "fig = make_subplots(rows=1, cols=len(coho_classes), \n",
    "                    subplot_titles = tuple('Circ Coord '+str(i) for i in coho_classes),\n",
    "                    specs = [[{'type': 'scatter3d'} for i in coho_classes]])\n",
    "\n",
    "for i, coord in enumerate(circular_coords):\n",
    "    fig.add_trace(\n",
    "        go.Scatter3d(x=data.T[0], y=data.T[1], z=data.T[2],   mode ='markers', \n",
    "        marker=dict(size = 2 , color = CMU.to_sinebow(np.pi + CMU.center(circular_coords[i])))),  \n",
    "        row=1, col=i+1)\n",
    "    fig.update_scenes(xaxis=dict( ticks='', showticklabels=False), \n",
    "                      yaxis=dict( ticks='', showticklabels=False), \n",
    "                      zaxis=dict( ticks='', showticklabels=False), \n",
    "                      aspectmode='data', row=1, col=i+1)\n",
    "\n",
    "fig.update_layout( showlegend=False )\n",
    "fig.show()"
   ]
  },
  {
   "cell_type": "markdown",
   "id": "299c886f",
   "metadata": {},
   "source": [
    "## Toroidal Coordinates\n",
    "_Decorrelating Circular Coordinates With Lattice Reduction_\n",
    "\n",
    "L. Scoccola, H. Gakhar, J. Bush, N. Schonsheck, T. Rask, L. Zhou, J. Perea, **SoCG 2023**"
   ]
  },
  {
   "cell_type": "code",
   "execution_count": null,
   "id": "7f69fcb3",
   "metadata": {},
   "outputs": [],
   "source": [
    "from dreimac import ToroidalCoords\n",
    "tc = ToroidalCoords(data, n_landmarks=n_lands)\n",
    "toroidal_coords = tc.get_coordinates(cocycle_idxs=coho_classes)"
   ]
  },
  {
   "cell_type": "code",
   "execution_count": null,
   "id": "86cbfb06",
   "metadata": {},
   "outputs": [],
   "source": [
    "tc.change_basis_"
   ]
  },
  {
   "cell_type": "code",
   "execution_count": null,
   "id": "09a13b78",
   "metadata": {},
   "outputs": [],
   "source": [
    "fig = make_subplots(rows=1, cols=len(coho_classes), \n",
    "                    subplot_titles = tuple('Toro Coord '+str(i) for i in coho_classes),\n",
    "                    specs = [[{'type': 'scatter3d'} for i in coho_classes]])\n",
    "\n",
    "for i, coord in enumerate(toroidal_coords):\n",
    "    fig.add_trace(go.Scatter3d(x=data[:,0], y=data[:,1], z=data[:,2],   mode ='markers', \n",
    "        marker=dict(size = 2 , color =  CMU.to_sinebow(np.pi + CMU.center(toroidal_coords[i])))),  \n",
    "        row=1, col=i+1)\n",
    "    fig.update_scenes(xaxis=dict( ticks='', showticklabels=False), \n",
    "                      yaxis=dict( ticks='', showticklabels=False), \n",
    "                      zaxis=dict( ticks='', showticklabels=False), \n",
    "                      aspectmode='data', row=1, col=i+1)\n",
    "\n",
    "\n",
    "fig.update_layout( showlegend=False )\n",
    "fig.show()"
   ]
  },
  {
   "cell_type": "code",
   "execution_count": null,
   "id": "67d5690a",
   "metadata": {},
   "outputs": [],
   "source": []
  }
 ],
 "metadata": {
  "kernelspec": {
   "display_name": "Python 3 (ipykernel)",
   "language": "python",
   "name": "python3"
  },
  "language_info": {
   "codemirror_mode": {
    "name": "ipython",
    "version": 3
   },
   "file_extension": ".py",
   "mimetype": "text/x-python",
   "name": "python",
   "nbconvert_exporter": "python",
   "pygments_lexer": "ipython3",
   "version": "3.9.12"
  }
 },
 "nbformat": 4,
 "nbformat_minor": 5
}
