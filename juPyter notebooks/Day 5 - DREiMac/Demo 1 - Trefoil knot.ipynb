{
 "cells": [
  {
   "cell_type": "markdown",
   "id": "cbad1c06",
   "metadata": {},
   "source": [
    "## Demo 1 - Parametrizing a Trefoil Knot"
   ]
  },
  {
   "cell_type": "code",
   "execution_count": null,
   "id": "8656353e",
   "metadata": {},
   "outputs": [],
   "source": [
    "import numpy as np\n",
    "\n",
    "#topological data analysis\n",
    "from dreimac import CircularCoords \n",
    "from persim import plot_diagrams\n",
    "\n",
    "#plotting and visualization\n",
    "import plotly.graph_objects as go\n",
    "from plotly.subplots import make_subplots\n",
    "\n",
    "import matplotlib.pyplot as plt\n",
    "%matplotlib inline"
   ]
  },
  {
   "cell_type": "code",
   "execution_count": null,
   "id": "fa78f77e",
   "metadata": {},
   "outputs": [],
   "source": [
    "# Setup trefoil knot data\n",
    "np.random.seed(0)\n",
    "n_data = 5000\n",
    "u = 4*np.pi*np.random.rand(n_data)\n",
    "v = 2*np.pi*np.random.rand(n_data)\n",
    "data = np.zeros((n_data, 3))\n",
    "data[:, 0] = np.cos(u)*np.cos(v) + 6*np.cos(u)*(1.5+np.sin(1.5*u)/2)\n",
    "data[:, 1] = np.sin(u)*np.cos(v) + 6*np.sin(u)*(1.5+np.sin(1.5*u)/2)\n",
    "data[:, 2] = np.sin(v) + 4*np.cos(1.5*u)\n",
    "data += 0.2*np.random.randn(*data.shape)\n",
    "\n",
    "# Plot the data \n",
    "fig = go.Figure(data=[go.Scatter3d(\n",
    "    x=data[:,0], y=data[:,1], z=data[:,2], \n",
    "    mode ='markers', \n",
    "    marker=dict(size = 2 , color = 'grey'))])\n",
    "\n",
    "fig.update_layout(scene=dict(aspectmode='data'))\n",
    "fig.show()"
   ]
  },
  {
   "cell_type": "code",
   "execution_count": null,
   "id": "90627e0b",
   "metadata": {},
   "outputs": [],
   "source": [
    "n_lands = 500\n",
    "\n",
    "cc = CircularCoords(data, n_landmarks=n_lands)\n",
    "\n",
    "plot_diagrams(cc.dgms_)"
   ]
  },
  {
   "cell_type": "code",
   "execution_count": null,
   "id": "1971fa5c",
   "metadata": {},
   "outputs": [],
   "source": [
    "# Get the circular coordinate at birth, and for the cocycle with highest persistence\n",
    "\n",
    "theta = cc.get_coordinates(perc= 0, cocycle_idx = 0)"
   ]
  },
  {
   "cell_type": "code",
   "execution_count": null,
   "id": "b99f17aa",
   "metadata": {},
   "outputs": [],
   "source": [
    "# Plot the trefoil knot with points colored by the computed circular coordinate\n",
    "fig = go.Figure(data=[go.Scatter3d(\n",
    "    x=data.T[0], y=data.T[1], z=data.T[2], \n",
    "    mode ='markers', \n",
    "    marker=dict(size = 2 , color = theta, colorscale = 'plasma',\n",
    "                colorbar=dict( title='Circular Coordinate',\n",
    "                titleside='right',\n",
    "                titlefont=dict(size=14),\n",
    "                len=1,\n",
    "                y=0.5))\n",
    ")])\n",
    "\n",
    "fig.update_layout( scene=dict(aspectmode='data'))\n",
    "fig.show()"
   ]
  },
  {
   "cell_type": "code",
   "execution_count": null,
   "id": "8b15fd13",
   "metadata": {},
   "outputs": [],
   "source": [
    "from dreimac import CircleMapUtils\n",
    "\n",
    "fig = go.Figure(data=[go.Scatter3d(\n",
    "    x=data.T[0], y=data.T[1], z=data.T[2], \n",
    "    mode ='markers', \n",
    "    marker=dict(size = 2 , color =  CircleMapUtils.to_sinebow(theta))\n",
    ")])\n",
    "\n",
    "fig.update_layout( scene=dict(aspectmode='data'))\n",
    "fig.show()"
   ]
  },
  {
   "cell_type": "code",
   "execution_count": null,
   "id": "727e6aab",
   "metadata": {},
   "outputs": [],
   "source": []
  }
 ],
 "metadata": {
  "kernelspec": {
   "display_name": "Python 3 (ipykernel)",
   "language": "python",
   "name": "python3"
  },
  "language_info": {
   "codemirror_mode": {
    "name": "ipython",
    "version": 3
   },
   "file_extension": ".py",
   "mimetype": "text/x-python",
   "name": "python",
   "nbconvert_exporter": "python",
   "pygments_lexer": "ipython3",
   "version": "3.9.16"
  }
 },
 "nbformat": 4,
 "nbformat_minor": 5
}
