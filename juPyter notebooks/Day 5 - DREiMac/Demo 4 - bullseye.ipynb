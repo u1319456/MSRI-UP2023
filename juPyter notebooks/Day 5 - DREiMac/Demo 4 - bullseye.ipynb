{
 "cells": [
  {
   "cell_type": "markdown",
   "metadata": {},
   "source": [
    "# Toroidal coordinates on bullseye\n",
    "\n",
    "An example of how toroidal coordinates is more reliable than circular coordinates when more than one prominent class is present. In this example, we seek to find a single circle-valued map that parametrizes all circularities present in the data at once. For this, we first find a circle-valued map representing each class and then add together these circle-valued maps into a single circle-valued map.\n",
    "\n",
    "We use two approaches. In one, we use toroidal coordinates to find three \"geometrically independent\" circle-valued maps and then sum them together. In the second, we run circular coordinates three times with different cocycles and sum the output circle-valued maps together."
   ]
  },
  {
   "cell_type": "code",
   "execution_count": null,
   "metadata": {},
   "outputs": [],
   "source": [
    "import matplotlib.pyplot as plt\n",
    "from dreimac import ToroidalCoords, CircularCoords, GeometryExamples, CircleMapUtils\n",
    "from persim import plot_diagrams"
   ]
  },
  {
   "cell_type": "code",
   "execution_count": null,
   "metadata": {},
   "outputs": [],
   "source": [
    "X = GeometryExamples.bullseye()\n",
    "plt.figure(figsize=(4,4))\n",
    "plt.scatter(X[:,0],X[:,1], s = 10)\n",
    "plt.gca().set_aspect(\"equal\") ; _ = plt.axis(\"off\")"
   ]
  },
  {
   "cell_type": "markdown",
   "metadata": {},
   "source": [
    "The persistence diagram suggests that there are three prominent 1-dimensional holes."
   ]
  },
  {
   "cell_type": "code",
   "execution_count": null,
   "metadata": {},
   "outputs": [],
   "source": [
    "n_landmarks = 300\n",
    "\n",
    "tc = ToroidalCoords(X, n_landmarks=n_landmarks)\n",
    "plot_diagrams(tc.dgms_)"
   ]
  },
  {
   "cell_type": "markdown",
   "metadata": {},
   "source": [
    "We now run the toroidal coordinates algorithm with the 3 most prominent classes and plot the result."
   ]
  },
  {
   "cell_type": "code",
   "execution_count": null,
   "metadata": {},
   "outputs": [],
   "source": [
    "perc = 0.1\n",
    "cohomology_classes = [0, 1, 2]\n",
    "\n",
    "toroidal_coords = tc.get_coordinates(perc=perc, cocycle_idxs=cohomology_classes)\n",
    "\n",
    "plt.figure(figsize=(10, 4))\n",
    "for i, coord in enumerate(toroidal_coords):\n",
    "    plt.subplot(1, len(toroidal_coords), i + 1)\n",
    "    plt.scatter(X[:, 0], X[:, 1], s=40, c=CircleMapUtils.to_sinebow(coord))\n",
    "    plt.title(\"toroidal\\ncoordinate \" + str(i+1))\n",
    "    plt.gca().set_aspect(\"equal\")\n",
    "    _ = plt.axis(\"off\")\n"
   ]
  },
  {
   "cell_type": "markdown",
   "metadata": {},
   "source": [
    "We now sum the three maps returned by toroidal coordinates and display it"
   ]
  },
  {
   "cell_type": "code",
   "execution_count": null,
   "metadata": {},
   "outputs": [],
   "source": [
    "\n",
    "t_sum = CircleMapUtils.linear_combination(toroidal_coords, [1, 1, 1])\n",
    "\n",
    "plt.figure(figsize=(4,4))\n",
    "plt.scatter(X[:,0],X[:,1], s = 40, c=CircleMapUtils.to_sinebow(t_sum))\n",
    "plt.title(\"sum of toroidal coordinates\")\n",
    "plt.gca().set_aspect(\"equal\") ; _ = plt.axis(\"off\")"
   ]
  },
  {
   "cell_type": "markdown",
   "metadata": {},
   "source": [
    "Run circular coordinates algorithm with three most prominent classes"
   ]
  },
  {
   "cell_type": "code",
   "execution_count": null,
   "metadata": {},
   "outputs": [],
   "source": [
    "cc = CircularCoords(X, n_landmarks=n_landmarks)\n",
    "circular_coords1 = cc.get_coordinates(perc=perc, cocycle_idx=cohomology_classes[0])\n",
    "circular_coords2 = cc.get_coordinates(perc=perc, cocycle_idx=cohomology_classes[1])\n",
    "circular_coords3 = cc.get_coordinates(perc=perc, cocycle_idx=cohomology_classes[2])\n",
    "circular_coords = [circular_coords1, circular_coords2, circular_coords3]\n",
    "\n",
    "plt.figure(figsize=(10, 4))\n",
    "for i, coord in enumerate(circular_coords):\n",
    "    plt.subplot(1, len(circular_coords), i + 1)\n",
    "    plt.scatter(X[:, 0], X[:, 1], s=40, c=CircleMapUtils.to_sinebow(coord))\n",
    "    plt.title(\"circular\\ncoordinate \" + str(i+1))\n",
    "    plt.gca().set_aspect(\"equal\")\n",
    "    _ = plt.axis(\"off\")"
   ]
  },
  {
   "cell_type": "markdown",
   "metadata": {},
   "source": [
    "Finally, see how the sum of the three maps returned by the circular coordinates algorithm fails to parametrize the three circles properly"
   ]
  },
  {
   "cell_type": "code",
   "execution_count": null,
   "metadata": {},
   "outputs": [],
   "source": [
    "c_sum = CircleMapUtils.linear_combination(circular_coords, [1, 1, 1])\n",
    "\n",
    "plt.figure(figsize=(4,4))\n",
    "plt.scatter(X[:,0],X[:,1], s = 40, c=CircleMapUtils.to_sinebow(c_sum))\n",
    "plt.title(\"sum of circular coordinates\")\n",
    "plt.gca().set_aspect(\"equal\") ; _ = plt.axis(\"off\")"
   ]
  }
 ],
 "metadata": {
  "kernelspec": {
   "display_name": "Python 3 (ipykernel)",
   "language": "python",
   "name": "python3"
  },
  "language_info": {
   "codemirror_mode": {
    "name": "ipython",
    "version": 3
   },
   "file_extension": ".py",
   "mimetype": "text/x-python",
   "name": "python",
   "nbconvert_exporter": "python",
   "pygments_lexer": "ipython3",
   "version": "3.9.12"
  },
  "vscode": {
   "interpreter": {
    "hash": "087e6391ed1cd4684da4d47dd76868e5fa890f509da77f6f7afb76c04058243b"
   }
  }
 },
 "nbformat": 4,
 "nbformat_minor": 2
}
