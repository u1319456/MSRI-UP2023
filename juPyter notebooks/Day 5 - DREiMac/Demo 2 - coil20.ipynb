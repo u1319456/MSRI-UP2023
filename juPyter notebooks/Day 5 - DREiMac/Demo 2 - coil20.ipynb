{
 "cells": [
  {
   "cell_type": "markdown",
   "metadata": {},
   "source": [
    "# Circular coordinates on COIL-20 data set\n",
    "\n",
    "An example of how the persistence diagram can suggest preprocessing the data by performing clustering before applying circular coordinates.\n",
    "\n",
    "We use the coil-20 dataset, consisting of pictures of five objects taken at different horizontal angles."
   ]
  },
  {
   "cell_type": "code",
   "execution_count": null,
   "metadata": {},
   "outputs": [],
   "source": [
    "from dreimac import CircularCoords\n",
    "from persim import plot_diagrams\n",
    "\n",
    "import numpy as np\n",
    "import matplotlib.pyplot as plt\n",
    "\n",
    "import warnings\n",
    "warnings.filterwarnings('ignore')"
   ]
  },
  {
   "cell_type": "markdown",
   "metadata": {},
   "source": [
    "Download the dataset and treat images as vectors."
   ]
  },
  {
   "cell_type": "code",
   "execution_count": null,
   "metadata": {},
   "outputs": [],
   "source": [
    "# NOTE: the following will download and unzip the coil data from here\n",
    "# http://www.cs.columbia.edu/CAVE/databases/SLAM_coil-20_coil-100/coil-20/coil-20-unproc.zip\n",
    "# into the directory ./data/coil-20-unproc/\n",
    "import urllib\n",
    "import zipfile\n",
    "\n",
    "url = \"http://www.cs.columbia.edu/CAVE/databases/SLAM_coil-20_coil-100/coil-20/coil-20-unproc.zip\"\n",
    "extract_dir = \"./data/\"\n",
    "\n",
    "zip_path, _ = urllib.request.urlretrieve(url)\n",
    "with zipfile.ZipFile(zip_path, \"r\") as f:\n",
    "    f.extractall(extract_dir)\n",
    "\n",
    "# treat images as vectors\n",
    "from PIL import Image\n",
    "import os\n",
    "\n",
    "data_directory = \"./data/coil-20-unproc/\"\n",
    "file_names = [n for n in os.listdir(data_directory) if n[-3:] == \"png\"]\n",
    "file_names.sort()\n",
    "\n",
    "X = []\n",
    "imgs = []\n",
    "for file_name in file_names:\n",
    "    image = Image.open(data_directory + file_name)\n",
    "    l, h = image.size\n",
    "    imgs.append(image)\n",
    "    x = np.array(image)\n",
    "    X.append(x.reshape(x.shape[0] * x.shape[1]))\n",
    "\n",
    "X = np.array(X)"
   ]
  },
  {
   "cell_type": "markdown",
   "metadata": {},
   "source": [
    "Start by computing and displaying the persistence diagram in dimensions 0 and 1."
   ]
  },
  {
   "cell_type": "code",
   "execution_count": null,
   "metadata": {},
   "outputs": [],
   "source": [
    "cc = CircularCoords(X, n_landmarks = X.shape[0])\n",
    "plot_diagrams(cc.dgms_)"
   ]
  },
  {
   "cell_type": "markdown",
   "metadata": {},
   "source": [
    "The diagram suggests that the data has five connected components (the five high prominent blue classes, on the left).\n",
    "Indeed, looking at the diagram we see that, choosing the Rips parameter to be 10000, the Rips complex will have precisely five connected components.\n",
    "\n",
    "Because of this, we first cluster the dataset using single-linkage with distance scale 10000, and the compute and display the Rips persistence diagram of each cluster individually."
   ]
  },
  {
   "cell_type": "code",
   "execution_count": null,
   "metadata": {},
   "outputs": [],
   "source": [
    "from scipy.cluster.hierarchy import linkage, fcluster\n",
    "\n",
    "def single_linkage(point_cloud, distance_scale):\n",
    "    single_linkage_hierarchy = linkage(point_cloud, \"single\")\n",
    "    return fcluster(single_linkage_hierarchy, distance_scale, criterion=\"distance\") - 1\n",
    "\n",
    "clusters = single_linkage(X, 10000)\n",
    "coordinatizators = [ CircularCoords(X[clusters==i], n_landmarks = X[clusters==i].shape[0]) for i in range(max(clusters)+1)]"
   ]
  },
  {
   "cell_type": "code",
   "execution_count": null,
   "metadata": {},
   "outputs": [],
   "source": [
    "_, axs = plt.subplots(nrows=1, ncols = len(coordinatizators), figsize=(18,2))\n",
    "for i,axc in enumerate(zip(axs,coordinatizators)):\n",
    "    ax, c = axc\n",
    "    plot_diagrams(c.dgms_,ax=ax)\n",
    "    ax.title.set_text(\"cluster \" + str(i))"
   ]
  },
  {
   "cell_type": "markdown",
   "metadata": {},
   "source": [
    "Finally, we compute circular coordinates for each cluster, using the most persistent class, and order some images of each cluster according to the circle-valued map."
   ]
  },
  {
   "cell_type": "code",
   "execution_count": null,
   "metadata": {},
   "outputs": [],
   "source": [
    "# get circular coordinates for each cluster\n",
    "perc = 0.1\n",
    "circular_coords = [\n",
    "    coordinatizator.get_coordinates(perc=perc, cocycle_idx=0, standard_range=False)\n",
    "    for coordinatizator in coordinatizators\n",
    "]"
   ]
  },
  {
   "cell_type": "code",
   "execution_count": null,
   "metadata": {},
   "outputs": [],
   "source": [
    "n_images_to_plot = 15\n",
    "n_clusters = max(clusters) + 1\n",
    "\n",
    "def representative_point_at_index(circular_coordinate, index_in_circle, n_bins_circle):\n",
    "    return np.argmin(\n",
    "        np.abs(circular_coordinate - (index_in_circle / n_bins_circle) * 2 * np.pi)\n",
    "    )\n",
    "\n",
    "f, axs = plt.subplots(n_clusters, n_images_to_plot, figsize=(20, 10))\n",
    "for i in range(n_clusters):\n",
    "    for j in range(n_images_to_plot):\n",
    "        coordinates = circular_coords[i]\n",
    "        index = representative_point_at_index(coordinates, j, n_images_to_plot)\n",
    "        axs[i, j].imshow([img for c,img in zip(clusters,imgs) if c==i][index], cmap=\"gray\")\n",
    "        axs[i, j].axis(\"Off\")"
   ]
  },
  {
   "cell_type": "code",
   "execution_count": null,
   "metadata": {},
   "outputs": [],
   "source": []
  }
 ],
 "metadata": {
  "kernelspec": {
   "display_name": "Python 3 (ipykernel)",
   "language": "python",
   "name": "python3"
  },
  "language_info": {
   "codemirror_mode": {
    "name": "ipython",
    "version": 3
   },
   "file_extension": ".py",
   "mimetype": "text/x-python",
   "name": "python",
   "nbconvert_exporter": "python",
   "pygments_lexer": "ipython3",
   "version": "3.9.16"
  },
  "vscode": {
   "interpreter": {
    "hash": "087e6391ed1cd4684da4d47dd76868e5fa890f509da77f6f7afb76c04058243b"
   }
  }
 },
 "nbformat": 4,
 "nbformat_minor": 2
}
